{
 "cells": [
  {
   "cell_type": "code",
   "execution_count": null,
   "metadata": {},
   "outputs": [],
   "source": [
    "import sys, re, numpy as np\n",
    "from pyteomics import mzxml\n",
    "\n",
    "inputFile = \"/Research/Projects/7Metabolomics/JUMPm/IROAsamples/IROA_IS_NEG_1.mzXML\"\n",
    "reader = mzxml.MzXML(inputFile)\n",
    "# reader['1']"
   ]
  },
  {
   "cell_type": "code",
   "execution_count": 36,
   "metadata": {},
   "outputs": [
    {
     "name": "stdout",
     "output_type": "stream",
     "text": [
      "Progress: [##########] 100% Done...\n"
     ]
    }
   ],
   "source": [
    "import time, sys\n",
    "\n",
    "class progressBar:\n",
    "    def __init__(self, total):\n",
    "        self.total = total\n",
    "        self.barLength = 10\n",
    "        self.count = 0\n",
    "        self.progress = 0\n",
    "        self.block = 0\n",
    "        self.status = \"\"\n",
    "    \n",
    "    def update(self):\n",
    "        self.count += 1\n",
    "        self.progress = self.count / self.total\n",
    "        self.block = int(round(self.barLength * self.progress))\n",
    "        if self.progress == 1:\n",
    "            self.status = \"Done...\\r\\n\"\n",
    "        else:\n",
    "            self.status = \"\"\n",
    "#         self.status = str(self.count) + \"/\" + str(self.total)\n",
    "        text = \"\\rProgress: [{0}] {1}% {2}\".format( \"#\" * self.block + \"-\" * (self.barLength - self.block), int(self.progress * 100), self.status)\n",
    "        sys.stdout.write(text)\n",
    "        sys.stdout.flush()\n",
    "        \n",
    "progress = progressBar(100)\n",
    "for i in range(0, 100):\n",
    "    time.sleep(0.1)\n",
    "    progress.update()"
   ]
  },
  {
   "cell_type": "code",
   "execution_count": 27,
   "metadata": {},
   "outputs": [
    {
     "name": "stdout",
     "output_type": "stream",
     "text": [
      "a/b\n"
     ]
    }
   ],
   "source": [
    "a = \"a\"\n",
    "b = \"b\"\n",
    "c = a + \"/\" + b\n",
    "print (c)"
   ]
  },
  {
   "cell_type": "code",
   "execution_count": 1,
   "metadata": {},
   "outputs": [
    {
     "ename": "OperationalError",
     "evalue": "no such column: hmdbId",
     "output_type": "error",
     "traceback": [
      "\u001b[1;31m---------------------------------------------------------------------------\u001b[0m",
      "\u001b[1;31mOperationalError\u001b[0m                          Traceback (most recent call last)",
      "\u001b[1;32m<ipython-input-1-b0ca59a5f6ae>\u001b[0m in \u001b[0;36m<module>\u001b[1;34m()\u001b[0m\n\u001b[0;32m     49\u001b[0m         \u001b[1;31m# Insert operation to a SQLite table\u001b[0m\u001b[1;33m\u001b[0m\u001b[1;33m\u001b[0m\u001b[0m\n\u001b[0;32m     50\u001b[0m         \u001b[0mcommand\u001b[0m \u001b[1;33m=\u001b[0m \u001b[1;34m\"INSERT INTO HMDB (HMDBID, FORMULA, SMILES, INCHI, INCHIKEY, NAME, MONOMASS) \"\u001b[0m                   \u001b[1;34m\"VALUES (hmdbId, formula, smiles, inchi, inchiKey, name, monoMass)\"\u001b[0m\u001b[1;33m\u001b[0m\u001b[0m\n\u001b[1;32m---> 51\u001b[1;33m         \u001b[0mconn\u001b[0m\u001b[1;33m.\u001b[0m\u001b[0mexecute\u001b[0m\u001b[1;33m(\u001b[0m\u001b[0mcommand\u001b[0m\u001b[1;33m)\u001b[0m\u001b[1;33m\u001b[0m\u001b[0m\n\u001b[0m\u001b[0;32m     52\u001b[0m         \u001b[0melement\u001b[0m\u001b[1;33m.\u001b[0m\u001b[0mclear\u001b[0m\u001b[1;33m(\u001b[0m\u001b[1;33m)\u001b[0m\u001b[1;33m\u001b[0m\u001b[0m\n\u001b[0;32m     53\u001b[0m \u001b[1;33m\u001b[0m\u001b[0m\n",
      "\u001b[1;31mOperationalError\u001b[0m: no such column: hmdbId"
     ]
    }
   ],
   "source": [
    "import os, sqlite3\n",
    "# conn = sqlite3.connect('hmdb.db')   # SQLite database for HMDB\n",
    "\n",
    "# ##################\n",
    "# # Create a table #\n",
    "# ##################\n",
    "# if not os.path.exists('hmdb.db'):\n",
    "#     conn.execute('''CREATE TABLE HMDB\n",
    "#                     (ID INT PRIMARY KEY NOT NULL,\n",
    "#                     HMDBID VARCHAR(255) NOT NULL,\n",
    "#                     FORMULA VARCHAR(255) NOT NULL,\n",
    "#                     SMILES VARCHAR(255),\n",
    "#                     INCHI VARCHAR(255),\n",
    "#                     INCHIKEY VARCHAR(255),\n",
    "#                     NAME VARCHAR(255),\n",
    "#                     MONOMASS REAL);''')\n",
    "\n",
    "################################################\n",
    "# Read a XML file and write to a database file #\n",
    "################################################\n",
    "# inputFile = \"hmdb_metabolites.xml\"\n",
    "inputFile = \"hmdb_small.xml\"\n",
    "n = 0\n",
    "try:\n",
    "    # Reading a XML  file\n",
    "    from lxml import etree\n",
    "    for event, element in etree.iterparse(inputFile, tag = \"{*}metabolite\"):\n",
    "        for child in element:\n",
    "            tag = etree.QName(child).localname  # Remove namespace from the tag\n",
    "            val = child.text\n",
    "            if tag == \"accession\" and val is not None:\n",
    "                hmdbId = val\n",
    "                n += 1\n",
    "                if n % 1000 == 0:\n",
    "                    print (\"%d entries are parsed\" % n)\n",
    "            elif tag == \"chemical_formula\" and val is not None:\n",
    "                formula = val\n",
    "            elif tag == \"smiles\" and val is not None:\n",
    "                smiles = val\n",
    "            elif tag == \"inchi\" and val is not None:\n",
    "                inchi = val\n",
    "            elif tag == \"inchikey\" and val is not None:\n",
    "                inchiKey = val\n",
    "            elif tag == \"monisotopic_molecular_weight\" and val is not None:\n",
    "                monoMass = val\n",
    "            elif tag == \"name\" and val is not None:\n",
    "                name = val\n",
    "\n",
    "        # Insert operation to a SQLite table\n",
    "        command = \"INSERT INTO HMDB (HMDBID, FORMULA, SMILES, INCHI, INCHIKEY, NAME, MONOMASS) \" \\\n",
    "                  \"VALUES (hmdbId, formula, smiles, inchi, inchiKey, name, monoMass)\"\n",
    "        conn.execute(command)\n",
    "        element.clear()\n",
    "\n",
    "    conn.commit()\n",
    "    conn.close()\n",
    "except ImportError:\n",
    "    print (\"Error in import lxml package\")\n"
   ]
  },
  {
   "cell_type": "code",
   "execution_count": 2,
   "metadata": {},
   "outputs": [],
   "source": [
    "conn.close()"
   ]
  },
  {
   "cell_type": "code",
   "execution_count": 5,
   "metadata": {},
   "outputs": [
    {
     "data": {
      "text/plain": [
       "numpy.float64"
      ]
     },
     "execution_count": 5,
     "metadata": {},
     "output_type": "execute_result"
    }
   ],
   "source": [
    "import numpy as np\n",
    "a = np.loadtxt(\"alignment_result.txt\")\n",
    "type(a[0])"
   ]
  },
  {
   "cell_type": "code",
   "execution_count": 10,
   "metadata": {},
   "outputs": [
    {
     "ename": "TypeError",
     "evalue": "remove: path should be string, bytes or os.PathLike, not list",
     "output_type": "error",
     "traceback": [
      "\u001b[1;31m---------------------------------------------------------------------------\u001b[0m",
      "\u001b[1;31mTypeError\u001b[0m                                 Traceback (most recent call last)",
      "\u001b[1;32m<ipython-input-10-a57d20709e24>\u001b[0m in \u001b[0;36m<module>\u001b[1;34m\u001b[0m\n\u001b[0;32m      3\u001b[0m \u001b[1;32mif\u001b[0m \u001b[0mos\u001b[0m\u001b[1;33m.\u001b[0m\u001b[0mpath\u001b[0m\u001b[1;33m.\u001b[0m\u001b[0mexists\u001b[0m\u001b[1;33m(\u001b[0m\u001b[1;34m\"refRt.txt\"\u001b[0m\u001b[1;33m)\u001b[0m\u001b[1;33m:\u001b[0m\u001b[1;33m\u001b[0m\u001b[1;33m\u001b[0m\u001b[0m\n\u001b[0;32m      4\u001b[0m     \u001b[0mos\u001b[0m\u001b[1;33m.\u001b[0m\u001b[0mremove\u001b[0m\u001b[1;33m(\u001b[0m\u001b[1;34m\"refRt.txt\"\u001b[0m\u001b[1;33m)\u001b[0m\u001b[1;33m\u001b[0m\u001b[1;33m\u001b[0m\u001b[0m\n\u001b[1;32m----> 5\u001b[1;33m \u001b[0mos\u001b[0m\u001b[1;33m.\u001b[0m\u001b[0mremove\u001b[0m\u001b[1;33m(\u001b[0m\u001b[1;33m[\u001b[0m\u001b[1;34m\"compRt_new.txt\"\u001b[0m\u001b[1;33m,\u001b[0m \u001b[1;34m\"alignment_result.txt\"\u001b[0m\u001b[1;33m]\u001b[0m\u001b[1;33m)\u001b[0m\u001b[1;33m\u001b[0m\u001b[1;33m\u001b[0m\u001b[0m\n\u001b[0m",
      "\u001b[1;31mTypeError\u001b[0m: remove: path should be string, bytes or os.PathLike, not list"
     ]
    }
   ],
   "source": [
    "import os\n",
    "\n",
    "if os.path.exists(\"refRt.txt\"):\n",
    "    os.remove(\"refRt.txt\")\n",
    "os.remove([\"compRt_new.txt\", \"alignment_result.txt\"])"
   ]
  },
  {
   "cell_type": "code",
   "execution_count": 6,
   "metadata": {},
   "outputs": [
    {
     "name": "stdout",
     "output_type": "stream",
     "text": [
      "[2 3]\n"
     ]
    }
   ],
   "source": [
    "import numpy as np\n",
    "a = np.array([1, 2, 3, 4, 5])\n",
    "b = np.array([1, 2, 3, 4, 5])\n",
    "\n",
    "ind = np.where((a > 2) & (b < 5))[0]\n",
    "print (ind)\n",
    "\n",
    "# if (a==b).all():\n",
    "#     print (\"yes\")\n",
    "# else:\n",
    "#     print (\"no\")"
   ]
  },
  {
   "cell_type": "code",
   "execution_count": 7,
   "metadata": {},
   "outputs": [
    {
     "name": "stdout",
     "output_type": "stream",
     "text": [
      "[0 0 2 4 0 9]\n"
     ]
    }
   ],
   "source": [
    "a = np.maximum(0, np.array([-1, 0, 2, 4, -5, 9]))\n",
    "print (a)"
   ]
  },
  {
   "cell_type": "code",
   "execution_count": 1,
   "metadata": {},
   "outputs": [
    {
     "name": "stdout",
     "output_type": "stream",
     "text": [
      "yes\n"
     ]
    }
   ],
   "source": [
    "a = \"abc\"\n",
    "if a == \"abc\":\n",
    "    print (\"yes\")\n"
   ]
  },
  {
   "cell_type": "code",
   "execution_count": 1,
   "metadata": {},
   "outputs": [
    {
     "name": "stdout",
     "output_type": "stream",
     "text": [
      "range(0, 3)\n"
     ]
    }
   ],
   "source": [
    "a = range(3)\n",
    "print (a)"
   ]
  },
  {
   "cell_type": "code",
   "execution_count": 2,
   "metadata": {},
   "outputs": [
    {
     "name": "stdout",
     "output_type": "stream",
     "text": [
      "range(0, 3)\n"
     ]
    }
   ],
   "source": [
    "a = range(0, 3)\n",
    "print (a)"
   ]
  },
  {
   "cell_type": "code",
   "execution_count": 5,
   "metadata": {},
   "outputs": [
    {
     "name": "stdout",
     "output_type": "stream",
     "text": [
      "1294.39\n"
     ]
    },
    {
     "data": {
      "text/plain": [
       "str"
      ]
     },
     "execution_count": 5,
     "metadata": {},
     "output_type": "execute_result"
    }
   ],
   "source": [
    "a = 1294.39394\n",
    "b = \"%.2f\" % a\n",
    "print (b)\n",
    "type(b)"
   ]
  },
  {
   "cell_type": "code",
   "execution_count": 20,
   "metadata": {},
   "outputs": [
    {
     "data": {
      "text/plain": [
       "False"
      ]
     },
     "execution_count": 20,
     "metadata": {},
     "output_type": "execute_result"
    }
   ],
   "source": [
    "import numpy as np\n",
    "a = np.array([2, 0, 4, 3, 7, 0, 9])\n",
    "not isinstance(a, (list, np.ndarray))"
   ]
  },
  {
   "cell_type": "code",
   "execution_count": null,
   "metadata": {},
   "outputs": [],
   "source": []
  }
 ],
 "metadata": {
  "kernelspec": {
   "display_name": "Python 3",
   "language": "python",
   "name": "python3"
  },
  "language_info": {
   "codemirror_mode": {
    "name": "ipython",
    "version": 3
   },
   "file_extension": ".py",
   "mimetype": "text/x-python",
   "name": "python",
   "nbconvert_exporter": "python",
   "pygments_lexer": "ipython3",
   "version": "3.7.4"
  }
 },
 "nbformat": 4,
 "nbformat_minor": 2
}
