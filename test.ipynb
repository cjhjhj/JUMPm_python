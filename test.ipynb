{
 "cells": [
  {
   "cell_type": "code",
   "execution_count": null,
   "metadata": {},
   "outputs": [],
   "source": [
    "import sys, re, numpy as np\n",
    "from pyteomics import mzxml\n",
    "\n",
    "inputFile = \"/Research/Projects/7Metabolomics/JUMPm/IROAsamples/IROA_IS_NEG_1.mzXML\"\n",
    "reader = mzxml.MzXML(inputFile)\n",
    "# reader['1']"
   ]
  },
  {
   "cell_type": "code",
   "execution_count": 36,
   "metadata": {},
   "outputs": [
    {
     "name": "stdout",
     "output_type": "stream",
     "text": [
      "Progress: [##########] 100% Done...\n"
     ]
    }
   ],
   "source": [
    "import time, sys\n",
    "\n",
    "class progressBar:\n",
    "    def __init__(self, total):\n",
    "        self.total = total\n",
    "        self.barLength = 10\n",
    "        self.count = 0\n",
    "        self.progress = 0\n",
    "        self.block = 0\n",
    "        self.status = \"\"\n",
    "    \n",
    "    def update(self):\n",
    "        self.count += 1\n",
    "        self.progress = self.count / self.total\n",
    "        self.block = int(round(self.barLength * self.progress))\n",
    "        if self.progress == 1:\n",
    "            self.status = \"Done...\\r\\n\"\n",
    "        else:\n",
    "            self.status = \"\"\n",
    "#         self.status = str(self.count) + \"/\" + str(self.total)\n",
    "        text = \"\\rProgress: [{0}] {1}% {2}\".format( \"#\" * self.block + \"-\" * (self.barLength - self.block), int(self.progress * 100), self.status)\n",
    "        sys.stdout.write(text)\n",
    "        sys.stdout.flush()\n",
    "        \n",
    "progress = progressBar(100)\n",
    "for i in range(0, 100):\n",
    "    time.sleep(0.1)\n",
    "    progress.update()"
   ]
  },
  {
   "cell_type": "code",
   "execution_count": 27,
   "metadata": {},
   "outputs": [
    {
     "name": "stdout",
     "output_type": "stream",
     "text": [
      "a/b\n"
     ]
    }
   ],
   "source": [
    "a = \"a\"\n",
    "b = \"b\"\n",
    "c = a + \"/\" + b\n",
    "print (c)"
   ]
  },
  {
   "cell_type": "code",
   "execution_count": 37,
   "metadata": {},
   "outputs": [],
   "source": [
    "import statsmodels"
   ]
  },
  {
   "cell_type": "code",
   "execution_count": 40,
   "metadata": {},
   "outputs": [],
   "source": [
    "import numpy as np\n",
    "\n",
    "featureFile = \"U:\\Research\\Projects\\\\7Metabolomics\\JUMPm\\IROAsamples\\IROA_IS_NEG_1.1.feature\"\n",
    "f = np.genfromtxt(featureFile, delimiter = \"\\t\", dtype = None, names = True)\n"
   ]
  },
  {
   "cell_type": "code",
   "execution_count": 42,
   "metadata": {},
   "outputs": [
    {
     "data": {
      "text/plain": [
       "('index',\n",
       " 'mz',\n",
       " 'z',\n",
       " 'MS1ScanNumber',\n",
       " 'minMS1ScanNumber',\n",
       " 'maxMS1ScanNumber',\n",
       " 'RT',\n",
       " 'minRT',\n",
       " 'maxRT',\n",
       " 'Intensity',\n",
       " 'SN',\n",
       " 'PercentageTF')"
      ]
     },
     "execution_count": 42,
     "metadata": {},
     "output_type": "execute_result"
    }
   ],
   "source": [
    "f.dtype.names"
   ]
  },
  {
   "cell_type": "code",
   "execution_count": 44,
   "metadata": {},
   "outputs": [
    {
     "data": {
      "text/plain": [
       "54"
      ]
     },
     "execution_count": 44,
     "metadata": {},
     "output_type": "execute_result"
    }
   ],
   "source": [
    "sum(f['index'][1:10])"
   ]
  },
  {
   "cell_type": "code",
   "execution_count": 50,
   "metadata": {},
   "outputs": [
    {
     "name": "stdout",
     "output_type": "stream",
     "text": [
      "2\n"
     ]
    }
   ],
   "source": [
    "a = [1, 2, 10, 3, 5]\n",
    "a = a / np.sum(a) * 100\n",
    "ind = np.argmax(a)\n",
    "print (ind)"
   ]
  },
  {
   "cell_type": "code",
   "execution_count": 67,
   "metadata": {},
   "outputs": [
    {
     "name": "stdout",
     "output_type": "stream",
     "text": [
      "error\n"
     ]
    }
   ],
   "source": [
    "a = [\"a\", \"b\", \"d\", \"c\"]\n",
    "try:\n",
    "    ind = a.index(\"q\")\n",
    "    print (ind)\n",
    "except:\n",
    "    print (\"error\")\n"
   ]
  },
  {
   "cell_type": "code",
   "execution_count": 75,
   "metadata": {},
   "outputs": [
    {
     "name": "stdout",
     "output_type": "stream",
     "text": [
      "[1, 2, 3]\n"
     ]
    }
   ],
   "source": [
    "a = [1, 2, 3, 4]\n",
    "b = 4\n",
    "c = list(set(a) - set([b]))\n",
    "print (c)"
   ]
  },
  {
   "cell_type": "code",
   "execution_count": 81,
   "metadata": {},
   "outputs": [
    {
     "name": "stdout",
     "output_type": "stream",
     "text": [
      "[( 704, 115.0021723, 1, 7626, 5043, 9999,  880.51,  601.429, 1137.35, 38957700, 9807.4, 47.1201)\n",
      " (1281, 155.0003207, 1, 9957, 5001, 9999, 1132.93,  596.833, 1137.35, 38772884, 8366.8, 47.5242)\n",
      " (1243, 131.0334459, 1, 9831, 5001, 9999, 1119.48,  596.833, 1137.35, 32696112, 7071.7, 47.5242)\n",
      " ( 150, 153.0179849, 1, 5337, 5001, 9999,  633.08,  596.833, 1137.35, 32189012, 8613.4, 47.5242)\n",
      " (1154, 119.0334742, 0, 9579, 5001, 9999, 1092.33,  596.833, 1137.35, 26099990, 7525.3, 47.5242)\n",
      " ( 890, 208.9334574, 0, 8718, 5001, 9999,  998.83,  596.833, 1137.35, 18834714, 5234.8, 47.5242)\n",
      " ( 606, 214.1183383, 0, 7122, 6996, 9957,  825.97,  812.251, 1132.93, 17466876, 3810.9, 28.1953)\n",
      " ( 208, 172.0390508, 1, 5631, 5085, 9978,  664.65,  605.949, 1135.17, 17013094, 4154.8, 46.5311)\n",
      " (1325, 159.0284234, 1, 9999, 8949, 9999, 1137.35, 1023.84 , 1137.35, 15661749, 3048.5,  9.9802)\n",
      " ( 871, 129.0178369, 1, 8613, 5001, 9999,  987.45,  596.833, 1137.35, 14429256, 4907.1, 47.5242)]\n"
     ]
    }
   ],
   "source": [
    "file = r\"U:\\Research\\Projects\\7Metabolomics\\JUMPm\\IROAsamples\\IROA_IS_NEG_1.1.feature\"\n",
    "data = np.genfromtxt(file, delimiter = \"\\t\", dtype = None, names = True)\n",
    "data2 = np.sort(data, order = \"Intensity\")[::-1]\n",
    "print (data2[0:10,])"
   ]
  },
  {
   "cell_type": "code",
   "execution_count": 83,
   "metadata": {},
   "outputs": [
    {
     "name": "stdout",
     "output_type": "stream",
     "text": [
      "1\n",
      "3\n"
     ]
    }
   ],
   "source": [
    "i, j = 1, 3\n",
    "print (i)\n",
    "print (j)"
   ]
  },
  {
   "cell_type": "code",
   "execution_count": 86,
   "metadata": {},
   "outputs": [
    {
     "name": "stdout",
     "output_type": "stream",
     "text": [
      "[10  4  2  9]\n"
     ]
    }
   ],
   "source": [
    "a = [10, 30, 4, 2, 9]\n",
    "b = np.array(a)\n",
    "c = b[b < 20]\n",
    "print (c)"
   ]
  },
  {
   "cell_type": "code",
   "execution_count": null,
   "metadata": {},
   "outputs": [],
   "source": []
  }
 ],
 "metadata": {
  "kernelspec": {
   "display_name": "Python 3",
   "language": "python",
   "name": "python3"
  },
  "language_info": {
   "codemirror_mode": {
    "name": "ipython",
    "version": 3
   },
   "file_extension": ".py",
   "mimetype": "text/x-python",
   "name": "python",
   "nbconvert_exporter": "python",
   "pygments_lexer": "ipython3",
   "version": "3.6.4"
  }
 },
 "nbformat": 4,
 "nbformat_minor": 2
}
