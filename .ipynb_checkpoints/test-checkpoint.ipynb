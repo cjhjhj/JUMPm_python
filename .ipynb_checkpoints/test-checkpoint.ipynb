{
 "cells": [
  {
   "cell_type": "code",
   "execution_count": 1,
   "metadata": {},
   "outputs": [],
   "source": [
    "import sys, re, numpy as np\n",
    "from pyteomics import mzxml\n",
    "\n",
    "inputFile = \"/Research/Projects/7Metabolomics/JUMPm/IROAsamples/IROA_IS_NEG_1.mzXML\"\n",
    "reader = mzxml.MzXML(inputFile)\n",
    "# reader['1']"
   ]
  },
  {
   "cell_type": "code",
   "execution_count": 29,
   "metadata": {},
   "outputs": [],
   "source": [
    "mzArray = np.array(reader['2']['m/z array'])\n",
    "ind = np.argmin(abs(mzArray - 100.2293))"
   ]
  },
  {
   "cell_type": "code",
   "execution_count": 30,
   "metadata": {},
   "outputs": [
    {
     "data": {
      "text/plain": [
       "18"
      ]
     },
     "execution_count": 30,
     "metadata": {},
     "output_type": "execute_result"
    }
   ],
   "source": [
    "ind"
   ]
  },
  {
   "cell_type": "code",
   "execution_count": 32,
   "metadata": {},
   "outputs": [],
   "source": [
    "a = [7, 3, 1, 8, 5]"
   ]
  },
  {
   "cell_type": "code",
   "execution_count": 51,
   "metadata": {},
   "outputs": [
    {
     "name": "stdout",
     "output_type": "stream",
     "text": [
      "100.3\n",
      "[100.1, 100.33, 100.2, 100.3, 100.4, 100.5, 100.6]\n"
     ]
    }
   ],
   "source": [
    "a = [100.1, 100.2, 100.3, 100.4, 100.5, 100.6]\n",
    "mz = 100.33\n",
    "ind = np.argmin(abs(np.array(a) - mz))\n",
    "a[ind]\n",
    "print(a[ind])\n",
    "\n",
    "if a[ind] > mz:\n",
    "    a.insert(ind - 1, mz)\n",
    "else:\n",
    "    a.insert(ind, mz)\n",
    "print(a)"
   ]
  },
  {
   "cell_type": "code",
   "execution_count": null,
   "metadata": {},
   "outputs": [],
   "source": []
  }
 ],
 "metadata": {
  "kernelspec": {
   "display_name": "Python 3",
   "language": "python",
   "name": "python3"
  },
  "language_info": {
   "codemirror_mode": {
    "name": "ipython",
    "version": 3
   },
   "file_extension": ".py",
   "mimetype": "text/x-python",
   "name": "python",
   "nbconvert_exporter": "python",
   "pygments_lexer": "ipython3",
   "version": "3.6.4"
  }
 },
 "nbformat": 4,
 "nbformat_minor": 2
}
